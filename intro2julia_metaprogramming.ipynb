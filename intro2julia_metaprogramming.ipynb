{
 "cells": [
  {
   "cell_type": "markdown",
   "metadata": {},
   "source": [
    "# A Brief Introduction to Julia Metaprogramming, Macros, and Generated Functions"
   ]
  },
  {
   "cell_type": "markdown",
   "metadata": {},
   "source": [
    "### Purpose:\n",
    "\n",
    "This Julia programming language notebook describes how to use Julia Metaprogramming, Macros, and Generated Functions through examples.\n",
    "\n",
    "### Intended Audience:\n",
    "Julia programmers and enthusiasts \n",
    "\n",
    "\n",
    "### Important Information about this notebook\n",
    "\n",
    "**Julia Version of this notebook:** *Julia 0.6.2*\n",
    "\n",
    "\n",
    "\n",
    "**References Used To Build This Notebook:**\n",
    "* Julia 1.0 Programming by Ivo Balbaert ISBN:9781788999090\n",
    "\n",
    "* Julia: High Performance Programming by Malcolm Sherrington, Avik Sengupta, Ivo Balbaert ISBN:9781787125704\n",
    "\n",
    "* Julia Documentation on-line : https://docs.julialang.org/en/v1/\n"
   ]
  },
  {
   "cell_type": "code",
   "execution_count": 26,
   "metadata": {},
   "outputs": [
    {
     "data": {
      "text/plain": [
       "v\"0.6.2\""
      ]
     },
     "execution_count": 26,
     "metadata": {},
     "output_type": "execute_result"
    }
   ],
   "source": [
    "# Revealing the present Julia programming language version\n",
    "VERSION"
   ]
  },
  {
   "cell_type": "markdown",
   "metadata": {},
   "source": [
    "## Metaprogramming in Julia\n",
    "\n",
    "Everything in Julia is an *expression* that returns a value when executed. In fact, every piece of program code is internally represented as an ordinary Julia data structure, referred to as an *expression*. \n",
    "\n",
    "By working with *expressions*, a Julia program can transform and even generate new code.  This capability is referred to as **homoiconicity**. Homoiconic languages allow code to be expressed in terms of that language's syntax. Namely, Julia is able to generate brand new \"Julia\" code during runtime, and this newly minted code can subsequently be executed.\n",
    "\n",
    "Don't worry, it is all going to make sense in a few more minutes. Keep reading!"
   ]
  },
  {
   "cell_type": "markdown",
   "metadata": {},
   "source": [
    "## Expressions and Symbols\n",
    "\n",
    "An **Abstract Syntax Tree (AST)** is a tree representation of the abstract syntactic structure of the the source code written in the Julia programming language. When Julia code is parsed by its LLVM Just-In Time (JIT) compiler, it is internally represented as an abstract syntax tree.\n"
   ]
  },
  {
   "cell_type": "markdown",
   "metadata": {},
   "source": [
    "Let's look at an example of a tree.\n",
    "\n",
    "An expression is simply an object that represents Julia code. \n",
    "\n",
    "For example, \n",
    "``2+3``\n",
    "\n",
    "is a piece of code which is an expression of type\n",
    "\n",
    "``Int64.``\n",
    "\n",
    "Its **syntax tree** looks like the figure below. \n"
   ]
  },
  {
   "cell_type": "code",
   "execution_count": 27,
   "metadata": {},
   "outputs": [
    {
     "data": {
      "image/png": "[encoded data removed]",
      "text/plain": [
       "214×276 Array{RGBA{N0f8},2}:\n",
       " RGBA{N0f8}(1.0,1.0,1.0,1.0)  …  RGBA{N0f8}(1.0,1.0,1.0,1.0)\n",
       " RGBA{N0f8}(1.0,1.0,1.0,1.0)     RGBA{N0f8}(1.0,1.0,1.0,1.0)\n",
       " RGBA{N0f8}(1.0,1.0,1.0,1.0)     RGBA{N0f8}(1.0,1.0,1.0,1.0)\n",
       " RGBA{N0f8}(1.0,1.0,1.0,1.0)     RGBA{N0f8}(1.0,1.0,1.0,1.0)\n",
       " RGBA{N0f8}(1.0,1.0,1.0,1.0)     RGBA{N0f8}(1.0,1.0,1.0,1.0)\n",
       " RGBA{N0f8}(1.0,1.0,1.0,1.0)  …  RGBA{N0f8}(1.0,1.0,1.0,1.0)\n",
       " RGBA{N0f8}(1.0,1.0,1.0,1.0)     RGBA{N0f8}(1.0,1.0,1.0,1.0)\n",
       " RGBA{N0f8}(1.0,1.0,1.0,1.0)     RGBA{N0f8}(1.0,1.0,1.0,1.0)\n",
       " RGBA{N0f8}(1.0,1.0,1.0,1.0)     RGBA{N0f8}(1.0,1.0,1.0,1.0)\n",
       " RGBA{N0f8}(1.0,1.0,1.0,1.0)     RGBA{N0f8}(1.0,1.0,1.0,1.0)\n",
       " RGBA{N0f8}(1.0,1.0,1.0,1.0)  …  RGBA{N0f8}(1.0,1.0,1.0,1.0)\n",
       " RGBA{N0f8}(1.0,1.0,1.0,1.0)     RGBA{N0f8}(1.0,1.0,1.0,1.0)\n",
       " RGBA{N0f8}(1.0,1.0,1.0,1.0)     RGBA{N0f8}(1.0,1.0,1.0,1.0)\n",
       " ⋮                            ⋱  ⋮                          \n",
       " RGBA{N0f8}(1.0,1.0,1.0,1.0)     RGBA{N0f8}(1.0,1.0,1.0,1.0)\n",
       " RGBA{N0f8}(1.0,1.0,1.0,1.0)     RGBA{N0f8}(1.0,1.0,1.0,1.0)\n",
       " RGBA{N0f8}(1.0,1.0,1.0,1.0)     RGBA{N0f8}(1.0,1.0,1.0,1.0)\n",
       " RGBA{N0f8}(1.0,1.0,1.0,1.0)  …  RGBA{N0f8}(1.0,1.0,1.0,1.0)\n",
       " RGBA{N0f8}(1.0,1.0,1.0,1.0)     RGBA{N0f8}(1.0,1.0,1.0,1.0)\n",
       " RGBA{N0f8}(1.0,1.0,1.0,1.0)     RGBA{N0f8}(1.0,1.0,1.0,1.0)\n",
       " RGBA{N0f8}(1.0,1.0,1.0,1.0)     RGBA{N0f8}(1.0,1.0,1.0,1.0)\n",
       " RGBA{N0f8}(1.0,1.0,1.0,1.0)     RGBA{N0f8}(1.0,1.0,1.0,1.0)\n",
       " RGBA{N0f8}(1.0,1.0,1.0,1.0)  …  RGBA{N0f8}(1.0,1.0,1.0,1.0)\n",
       " RGBA{N0f8}(1.0,1.0,1.0,1.0)     RGBA{N0f8}(1.0,1.0,1.0,1.0)\n",
       " RGBA{N0f8}(1.0,1.0,1.0,1.0)     RGBA{N0f8}(1.0,1.0,1.0,1.0)\n",
       " RGBA{N0f8}(1.0,1.0,1.0,1.0)     RGBA{N0f8}(1.0,1.0,1.0,1.0)"
      ]
     },
     "execution_count": 27,
     "metadata": {},
     "output_type": "execute_result"
    }
   ],
   "source": [
    "#Pkg.add(\"FileIO\") # In case you do not have FileIO installed \n",
    "using FileIO   # Let's us load some figures into cells\n",
    "img = load(\"meta1_fig.png\")"
   ]
  },
  {
   "cell_type": "markdown",
   "metadata": {},
   "source": [
    "To make Julia see 2+3 as an expression and block its evaluation immediately (i.e., keep the expression from being executed to render a result), it must be **quoted**. Quoting happens in two ways. For this single one-liner, we would make 2+3 an *expression* by preceding it with a colon **\\:** as in **:(2+3)**. The colon is known as the **quote** operator. It treats the argument as data, not as code. \n",
    "\n",
    "In the context of an expression, symbols are used to indicate access to variables; they represent the variable in the tree structure for the code. The two **quote** operators **\\:** and (**quote...end**) prevent evaluation. For instance  x = 5 will return 5, but **:x** will return **:x** at a Julia REPL line as shown in the cells below.\n"
   ]
  },
  {
   "cell_type": "code",
   "execution_count": 28,
   "metadata": {},
   "outputs": [
    {
     "data": {
      "text/plain": [
       "5"
      ]
     },
     "execution_count": 28,
     "metadata": {},
     "output_type": "execute_result"
    }
   ],
   "source": [
    "x = 5"
   ]
  },
  {
   "cell_type": "code",
   "execution_count": 29,
   "metadata": {},
   "outputs": [
    {
     "data": {
      "text/plain": [
       ":x"
      ]
     },
     "execution_count": 29,
     "metadata": {},
     "output_type": "execute_result"
    }
   ],
   "source": [
    ":x"
   ]
  },
  {
   "cell_type": "markdown",
   "metadata": {},
   "source": [
    "When we evaluate **:(2+3)** in the REPL, it just returns **:(2+3)** which is of type Expr, Expression. \n"
   ]
  },
  {
   "cell_type": "code",
   "execution_count": 30,
   "metadata": {},
   "outputs": [
    {
     "data": {
      "text/plain": [
       ":(2 + 3)"
      ]
     },
     "execution_count": 30,
     "metadata": {},
     "output_type": "execute_result"
    }
   ],
   "source": [
    ":(2+3)"
   ]
  },
  {
   "cell_type": "code",
   "execution_count": 31,
   "metadata": {},
   "outputs": [
    {
     "data": {
      "text/plain": [
       "Expr"
      ]
     },
     "execution_count": 31,
     "metadata": {},
     "output_type": "execute_result"
    }
   ],
   "source": [
    "typeof(:(2+3))"
   ]
  },
  {
   "cell_type": "markdown",
   "metadata": {},
   "source": [
    "Now, if you do not have a one-liner *expression* (i.e., the *expression* spreads across multiple lines), we would simply **quote** the entire multi-line expression using **quote** and **end** block enclosures. Check it out.\n",
    "\n"
   ]
  },
  {
   "cell_type": "code",
   "execution_count": 32,
   "metadata": {},
   "outputs": [
    {
     "data": {
      "text/plain": [
       "quote  # In[32], line 2:\n",
       "    a = 42 # In[32], line 3:\n",
       "    b = a ^ 2 # In[32], line 4:\n",
       "    a - b\n",
       "end"
      ]
     },
     "execution_count": 32,
     "metadata": {},
     "output_type": "execute_result"
    }
   ],
   "source": [
    "quote\n",
    "    a = 42 \n",
    "    b = a^2\n",
    "    a-b\n",
    "end\n"
   ]
  },
  {
   "cell_type": "code",
   "execution_count": 33,
   "metadata": {},
   "outputs": [
    {
     "data": {
      "text/plain": [
       "quote \n",
       "    a = 42\n",
       "    b = a ^ 2\n",
       "    a - b\n",
       "end"
      ]
     },
     "execution_count": 33,
     "metadata": {},
     "output_type": "execute_result"
    }
   ],
   "source": [
    "# note: you could have done this in one long one-liner equivalent\n",
    ":(a=42; b=a^2; a - b)"
   ]
  },
  {
   "cell_type": "markdown",
   "metadata": {},
   "source": [
    "*Expressions* can be named/assigned similar to how we assign *variables* a name. \n",
    "\n",
    "Additionally, we can acquire other information about the *expression*, which reveals that *expressions* are made up **symbols** and **literals**.  Complex *expressions* will consist of literal values, symbols, and sub or nested *expressions*, which can similarly be broken down to symbols, literals, and possible nested *expressions*, and broken down further as necessary until you arrive at only symbols and literals. \n"
   ]
  },
  {
   "cell_type": "code",
   "execution_count": 34,
   "metadata": {},
   "outputs": [
    {
     "data": {
      "text/plain": [
       ":(2 + 3)"
      ]
     },
     "execution_count": 34,
     "metadata": {},
     "output_type": "execute_result"
    }
   ],
   "source": [
    "e1 = :(2+3)"
   ]
  },
  {
   "cell_type": "code",
   "execution_count": 35,
   "metadata": {},
   "outputs": [
    {
     "data": {
      "text/plain": [
       ":call"
      ]
     },
     "execution_count": 35,
     "metadata": {},
     "output_type": "execute_result"
    }
   ],
   "source": [
    "e1.head"
   ]
  },
  {
   "cell_type": "code",
   "execution_count": 36,
   "metadata": {},
   "outputs": [
    {
     "data": {
      "text/plain": [
       "3-element Array{Any,1}:\n",
       "  :+\n",
       " 2  \n",
       " 3  "
      ]
     },
     "execution_count": 36,
     "metadata": {},
     "output_type": "execute_result"
    }
   ],
   "source": [
    "e1.args"
   ]
  },
  {
   "cell_type": "markdown",
   "metadata": {},
   "source": [
    "* **e1.head** returns **:call** indicating the kind of expression, which in this *expression* is a function **call**\n",
    "\n",
    "* **e1.args** returns the elements of the expression in an array. \n",
    "    * consists of a symbol,  **:+**\n",
    "    * and two literal values: 2 and 3\n",
    "    "
   ]
  },
  {
   "cell_type": "markdown",
   "metadata": {},
   "source": [
    "### Example of a Complex Expression\n",
    "\n",
    "Here's a complex expression\n",
    "``` e2 = :(2 + a * b - c)```\n",
    "\n",
    "A simple graphical visualization\n"
   ]
  },
  {
   "cell_type": "code",
   "execution_count": 37,
   "metadata": {},
   "outputs": [
    {
     "data": {
      "image/png": "[encoded data removed]",
      "text/plain": [
       "191×238 Array{RGBA{N0f8},2}:\n",
       " RGBA{N0f8}(1.0,1.0,1.0,1.0)  …  RGBA{N0f8}(1.0,1.0,1.0,1.0)\n",
       " RGBA{N0f8}(1.0,1.0,1.0,1.0)     RGBA{N0f8}(1.0,1.0,1.0,1.0)\n",
       " RGBA{N0f8}(1.0,1.0,1.0,1.0)     RGBA{N0f8}(1.0,1.0,1.0,1.0)\n",
       " RGBA{N0f8}(1.0,1.0,1.0,1.0)     RGBA{N0f8}(1.0,1.0,1.0,1.0)\n",
       " RGBA{N0f8}(1.0,1.0,1.0,1.0)     RGBA{N0f8}(1.0,1.0,1.0,1.0)\n",
       " RGBA{N0f8}(1.0,1.0,1.0,1.0)  …  RGBA{N0f8}(1.0,1.0,1.0,1.0)\n",
       " RGBA{N0f8}(1.0,1.0,1.0,1.0)     RGBA{N0f8}(1.0,1.0,1.0,1.0)\n",
       " RGBA{N0f8}(1.0,1.0,1.0,1.0)     RGBA{N0f8}(1.0,1.0,1.0,1.0)\n",
       " RGBA{N0f8}(1.0,1.0,1.0,1.0)     RGBA{N0f8}(1.0,1.0,1.0,1.0)\n",
       " RGBA{N0f8}(1.0,1.0,1.0,1.0)     RGBA{N0f8}(1.0,1.0,1.0,1.0)\n",
       " RGBA{N0f8}(1.0,1.0,1.0,1.0)  …  RGBA{N0f8}(1.0,1.0,1.0,1.0)\n",
       " RGBA{N0f8}(1.0,1.0,1.0,1.0)     RGBA{N0f8}(1.0,1.0,1.0,1.0)\n",
       " RGBA{N0f8}(1.0,1.0,1.0,1.0)     RGBA{N0f8}(1.0,1.0,1.0,1.0)\n",
       " ⋮                            ⋱                             \n",
       " RGBA{N0f8}(1.0,1.0,1.0,1.0)     RGBA{N0f8}(1.0,1.0,1.0,1.0)\n",
       " RGBA{N0f8}(1.0,1.0,1.0,1.0)  …  RGBA{N0f8}(1.0,1.0,1.0,1.0)\n",
       " RGBA{N0f8}(1.0,1.0,1.0,1.0)     RGBA{N0f8}(1.0,1.0,1.0,1.0)\n",
       " RGBA{N0f8}(1.0,1.0,1.0,1.0)     RGBA{N0f8}(1.0,1.0,1.0,1.0)\n",
       " RGBA{N0f8}(1.0,1.0,1.0,1.0)     RGBA{N0f8}(1.0,1.0,1.0,1.0)\n",
       " RGBA{N0f8}(1.0,1.0,1.0,1.0)     RGBA{N0f8}(1.0,1.0,1.0,1.0)\n",
       " RGBA{N0f8}(1.0,1.0,1.0,1.0)  …  RGBA{N0f8}(1.0,1.0,1.0,1.0)\n",
       " RGBA{N0f8}(1.0,1.0,1.0,1.0)     RGBA{N0f8}(1.0,1.0,1.0,1.0)\n",
       " RGBA{N0f8}(1.0,1.0,1.0,1.0)     RGBA{N0f8}(1.0,1.0,1.0,1.0)\n",
       " RGBA{N0f8}(1.0,1.0,1.0,1.0)     RGBA{N0f8}(1.0,1.0,1.0,1.0)\n",
       " RGBA{N0f8}(1.0,1.0,1.0,1.0)     RGBA{N0f8}(1.0,1.0,1.0,1.0)\n",
       " RGBA{N0f8}(1.0,1.0,1.0,1.0)  …  RGBA{N0f8}(1.0,1.0,1.0,1.0)"
      ]
     },
     "execution_count": 37,
     "metadata": {},
     "output_type": "execute_result"
    }
   ],
   "source": [
    "img = load(\"meta2_fig.png\")"
   ]
  },
  {
   "cell_type": "code",
   "execution_count": 38,
   "metadata": {},
   "outputs": [
    {
     "data": {
      "text/plain": [
       ":((2 + a * b) - c)"
      ]
     },
     "execution_count": 38,
     "metadata": {},
     "output_type": "execute_result"
    }
   ],
   "source": [
    "# Defining the complex expression in Julia\n",
    "\n",
    "e2 = :(2 + a * b -c)\n"
   ]
  },
  {
   "cell_type": "code",
   "execution_count": 39,
   "metadata": {},
   "outputs": [
    {
     "data": {
      "text/plain": [
       ":call"
      ]
     },
     "execution_count": 39,
     "metadata": {},
     "output_type": "execute_result"
    }
   ],
   "source": [
    "# the type of expression found using .head\n",
    "e2.head"
   ]
  },
  {
   "cell_type": "code",
   "execution_count": 40,
   "metadata": {},
   "outputs": [
    {
     "data": {
      "text/plain": [
       "3-element Array{Any,1}:\n",
       " :-          \n",
       " :(2 + a * b)\n",
       " :c          "
      ]
     },
     "execution_count": 40,
     "metadata": {},
     "output_type": "execute_result"
    }
   ],
   "source": [
    "# the symbols, literals, and possible sub expressions using .args\n",
    "e2.args"
   ]
  },
  {
   "cell_type": "markdown",
   "metadata": {},
   "source": [
    "To see the *abstract syntax tree (AST)*, we can use the Julia **dump** function"
   ]
  },
  {
   "cell_type": "code",
   "execution_count": 41,
   "metadata": {},
   "outputs": [
    {
     "name": "stdout",
     "output_type": "stream",
     "text": [
      "Expr\n",
      "  head: Symbol call\n",
      "  args: Array{Any}((3,))\n",
      "    1: Symbol -\n",
      "    2: Expr\n",
      "      head: Symbol call\n",
      "      args: Array{Any}((3,))\n",
      "        1: Symbol +\n",
      "        2: Int64 2\n",
      "        3: Expr\n",
      "          head: Symbol call\n",
      "          args: Array{Any}((3,))\n",
      "            1: Symbol *\n",
      "            2: Symbol a\n",
      "            3: Symbol b\n",
      "          typ: Any\n",
      "      typ: Any\n",
      "    3: Symbol c\n",
      "  typ: Any\n"
     ]
    }
   ],
   "source": [
    "dump(:(2 + a * b -c))"
   ]
  },
  {
   "cell_type": "markdown",
   "metadata": {},
   "source": [
    "### BUT WAIT! \n",
    "\n",
    "There is one more way to build *Expressions* : Use the Expr **constructor** \n",
    "\n",
    "(see terminology definition at the end of this notebook to understand a constructor)"
   ]
  },
  {
   "cell_type": "code",
   "execution_count": 42,
   "metadata": {},
   "outputs": [
    {
     "data": {
      "text/plain": [
       ":((*)(3, 4))"
      ]
     },
     "execution_count": 42,
     "metadata": {},
     "output_type": "execute_result"
    }
   ],
   "source": [
    "e1 = Expr(:call, *, 3, 4)"
   ]
  },
  {
   "cell_type": "code",
   "execution_count": 43,
   "metadata": {},
   "outputs": [
    {
     "name": "stdout",
     "output_type": "stream",
     "text": [
      "search: \u001b[1mE\u001b[22m\u001b[1mx\u001b[22m\u001b[1mp\u001b[22m\u001b[1mr\u001b[22m \u001b[1me\u001b[22m\u001b[1mx\u001b[22m\u001b[1mp\u001b[22mo\u001b[1mr\u001b[22mt n\u001b[1me\u001b[22m\u001b[1mx\u001b[22mt\u001b[1mp\u001b[22m\u001b[1mr\u001b[22mod \u001b[1me\u001b[22m\u001b[1mx\u001b[22m\u001b[1mp\u001b[22manduse\u001b[1mr\u001b[22m \u001b[1me\u001b[22m\u001b[1mx\u001b[22m\u001b[1mp\u001b[22mm \u001b[1me\u001b[22m\u001b[1mx\u001b[22m\u001b[1mp\u001b[22m2 \u001b[1me\u001b[22m\u001b[1mx\u001b[22m\u001b[1mp\u001b[22m \u001b[1me\u001b[22m\u001b[1mx\u001b[22m\u001b[1mp\u001b[22mm1 \u001b[1me\u001b[22m\u001b[1mx\u001b[22m\u001b[1mp\u001b[22m10 \u001b[1me\u001b[22m\u001b[1mx\u001b[22m\u001b[1mp\u001b[22mand\n",
      "\n"
     ]
    },
    {
     "data": {
      "text/markdown": [
       "No documentation found.\n",
       "\n",
       "**Summary:**\n",
       "\n",
       "```\n",
       "mutable struct Expr <: Any\n",
       "```\n",
       "\n",
       "**Fields:**\n",
       "\n",
       "```\n",
       "head :: Symbol\n",
       "args :: Array{Any,1}\n",
       "typ  :: Any\n",
       "```\n"
      ],
      "text/plain": [
       "No documentation found.\n",
       "\n",
       "**Summary:**\n",
       "\n",
       "```\n",
       "mutable struct Expr <: Any\n",
       "```\n",
       "\n",
       "**Fields:**\n",
       "\n",
       "```\n",
       "head :: Symbol\n",
       "args :: Array{Any,1}\n",
       "typ  :: Any\n",
       "```\n"
      ]
     },
     "execution_count": 43,
     "metadata": {},
     "output_type": "execute_result"
    }
   ],
   "source": [
    "?Expr"
   ]
  },
  {
   "cell_type": "markdown",
   "metadata": {},
   "source": [
    "## Evaluation and Interpolation\n",
    "\n",
    "So, up to this point we have learned how to use **quoting** (**\\:** or **quote..end**) and **Expr** constructors to build expressions, Julia code essentially built from within Julia code. The question you are no doubt asking now is *\"How to execute these expressions to make expression realizable code?\"* Hang on true believers cause we got you covered in this section.\n",
    "\n",
    "#### Evaluation--How We Execute an Expression:\n",
    "\n",
    "The result of an expression can be computed with the **eval** function!\n",
    "Say we take our e1 = Expr(:call, *, 3, 4) *expression*: use *eval(e1)* and voila!, The value *12* gets returned."
   ]
  },
  {
   "cell_type": "code",
   "execution_count": 44,
   "metadata": {},
   "outputs": [
    {
     "data": {
      "text/plain": [
       ":((*)(3, 4))"
      ]
     },
     "execution_count": 44,
     "metadata": {},
     "output_type": "execute_result"
    }
   ],
   "source": [
    "e1 = Expr(:call, *, 3, 4)\n"
   ]
  },
  {
   "cell_type": "code",
   "execution_count": 45,
   "metadata": {},
   "outputs": [
    {
     "data": {
      "text/plain": [
       "12"
      ]
     },
     "execution_count": 45,
     "metadata": {},
     "output_type": "execute_result"
    }
   ],
   "source": [
    "#Execute expression e1\n",
    "eval(e1) "
   ]
  },
  {
   "cell_type": "markdown",
   "metadata": {},
   "source": [
    "#### All symbols Need to be Defined at Execution:\n",
    "Key point: at the time an *expression* is constructed, not all the symbols have to be defined, but they have to be at the time of evaluation (i.e., when **eval()** is invoked), otherwise errors occur.\n"
   ]
  },
  {
   "cell_type": "code",
   "execution_count": 46,
   "metadata": {},
   "outputs": [
    {
     "data": {
      "text/plain": [
       "1"
      ]
     },
     "execution_count": 46,
     "metadata": {},
     "output_type": "execute_result"
    }
   ],
   "source": [
    "# Example of this error situation\n",
    "e2 = Expr(:call, *, 3, :a)\n",
    "\n",
    "eval(e3) #evaluation of e3 has error because a is not assigned"
   ]
  },
  {
   "cell_type": "code",
   "execution_count": 47,
   "metadata": {},
   "outputs": [
    {
     "data": {
      "text/plain": [
       "12"
      ]
     },
     "execution_count": 47,
     "metadata": {},
     "output_type": "execute_result"
    }
   ],
   "source": [
    "# The fix \n",
    "# We would have to assign a value to \"a\", and then evaluate \"e2\" before we would \n",
    "# return a value.\n",
    "\n",
    "e2 = Expr(:call, *, 3, :a)\n",
    "a = 4\n",
    "eval(e2) #evaluation of e3 has error because a is not assigned"
   ]
  },
  {
   "cell_type": "markdown",
   "metadata": {},
   "source": [
    "#### Expressions Can Change State of the Execution Environment:\n",
    "\n",
    "expression **e3** assigns a value to variable b when the expression **e3** gets evaluated. It might even define b, if it does not already exist.\n"
   ]
  },
  {
   "cell_type": "code",
   "execution_count": 48,
   "metadata": {},
   "outputs": [
    {
     "data": {
      "text/plain": [
       ":(b = 1)"
      ]
     },
     "execution_count": 48,
     "metadata": {},
     "output_type": "execute_result"
    }
   ],
   "source": [
    "e3 = :(b = 1)"
   ]
  },
  {
   "cell_type": "markdown",
   "metadata": {},
   "source": [
    "#### Interpolation – Immediate Evaluation of an Expression and Tool to Make Writing Expressions Easier:\n",
    "\n",
    "To interpolate, we use the **\\$** operator in an expression. Similar to how we use the **\\$** operator with strings, the **\\$** operator will evaluate immediately when the *expressions* are made (not evaluated). Check it out below."
   ]
  },
  {
   "cell_type": "code",
   "execution_count": 49,
   "metadata": {},
   "outputs": [],
   "source": [
    "a = 1\n",
    "b = 99\n",
    "e4 = :(a + b);\n",
    "e5 = :($a + b);"
   ]
  },
  {
   "cell_type": "code",
   "execution_count": 50,
   "metadata": {},
   "outputs": [
    {
     "data": {
      "text/plain": [
       ":(a + b)"
      ]
     },
     "execution_count": 50,
     "metadata": {},
     "output_type": "execute_result"
    }
   ],
   "source": [
    "e4"
   ]
  },
  {
   "cell_type": "code",
   "execution_count": 51,
   "metadata": {},
   "outputs": [
    {
     "data": {
      "text/plain": [
       ":(1 + b)"
      ]
     },
     "execution_count": 51,
     "metadata": {},
     "output_type": "execute_result"
    }
   ],
   "source": [
    "e5"
   ]
  },
  {
   "cell_type": "code",
   "execution_count": 52,
   "metadata": {},
   "outputs": [
    {
     "data": {
      "text/plain": [
       "100"
      ]
     },
     "execution_count": 52,
     "metadata": {},
     "output_type": "execute_result"
    }
   ],
   "source": [
    "eval(e4)"
   ]
  },
  {
   "cell_type": "code",
   "execution_count": 53,
   "metadata": {},
   "outputs": [
    {
     "data": {
      "text/plain": [
       "100"
      ]
     },
     "execution_count": 53,
     "metadata": {},
     "output_type": "execute_result"
    }
   ],
   "source": [
    "eval(e5)"
   ]
  },
  {
   "cell_type": "markdown",
   "metadata": {},
   "source": [
    "We see that with **e5** that **\\$a** gets immediately evaluated in the *expression* to get value **a = 1**. Both **e4** and **e5** both evaluated return the same value of **100**.\n",
    "\n",
    "#### Conclusion:\n",
    "\n",
    "There are two kinds of evaluations:\n",
    "\n",
    "* Expression interpolation (with **\\$**) evaluates when the *expression* is constructed (at *parse time*)\n",
    "\n",
    "* Quotation (with **\\:** or **quote..end**) evaluates only when the *expression* is passed to **eval** at runtime.\n"
   ]
  },
  {
   "cell_type": "markdown",
   "metadata": {},
   "source": [
    "## Defining Macros\n",
    "\n",
    "Up until now, we have restricted our discussions primarily around the topic of *Expressions*. In this section, we bring it altogether by introducing the concept of *Macros*.\n",
    "\n",
    "*Macros* are like functions, but instead of values, they take-in *expressions* (i.e., symbols and literals) as input arguments. When a *macro* is evaluated, the input *expression* is expanded, meaning the macro returns a modified expression. This expansion occurs at parse time when the syntax tree is being built, NOT when the code is actually executed.\n",
    "\n",
    "Again the differences between functions and macros when they are called or invoked are:\n",
    "\n",
    "* **Function**: takes the input values and returns the computed values at *runtime*.\n",
    "\n",
    "* **Macro**: takes the input expression and returns the modified expressions at parse time. Macros are a form of custom program transformation"
   ]
  },
  {
   "cell_type": "markdown",
   "metadata": {},
   "source": [
    "### Macro Definition\n",
    "\n",
    "**macro mname**\n",
    "\n",
    "    #code returning expression\n",
    "\n",
    "**end**\n",
    "\n",
    "here the *Macro* block defines a new scope which is why we have to use some special syntax for defining local variables. \n",
    "\n",
    "Macros allow us to control when the code is executed.\n"
   ]
  },
  {
   "cell_type": "markdown",
   "metadata": {},
   "source": [
    "#### The Calling Context: When the Macro Gets Invoked\n",
    "\n",
    "**@mnanme exp1 exp2 or @mname(exp1,exp2)**\n",
    "\n",
    "here the **@** sign distinguishes a macro from a normal function"
   ]
  },
  {
   "cell_type": "markdown",
   "metadata": {},
   "source": [
    "##### Example 1: Showing Definition and Invocation of a Macro\n",
    "\n",
    "Notice that we use **$** interpolation to immediately evaluate the expression **ex**\n",
    "\n",
    "**ex** is \n",
    "\n",
    "`println(\"Second\")`\n",
    "\n",
    "**$ex** immediately evaluates the expression resulting in *Second* to be inserted tinto the **quote** block. \n"
   ]
  },
  {
   "cell_type": "code",
   "execution_count": 54,
   "metadata": {},
   "outputs": [
    {
     "data": {
      "text/plain": [
       "@macex1 (macro with 1 method)"
      ]
     },
     "execution_count": 54,
     "metadata": {},
     "output_type": "execute_result"
    }
   ],
   "source": [
    "macro macex1(ex)\n",
    "    quote\n",
    "        println(\"First\")\n",
    "        $ex\n",
    "        println(\"Third\")\n",
    "    end\n",
    "end"
   ]
  },
  {
   "cell_type": "code",
   "execution_count": 55,
   "metadata": {},
   "outputs": [
    {
     "name": "stdout",
     "output_type": "stream",
     "text": [
      "First\n",
      "Second\n",
      "Third\n"
     ]
    }
   ],
   "source": [
    "@macex1 println(\"Second\")"
   ]
  },
  {
   "cell_type": "markdown",
   "metadata": {},
   "source": [
    "##### Example 2: Showing How a Macro Can Be Expanded Showing a Resulting Expression\n",
    "\n",
    "The **assert** macro to the left takes an expression, **ex**, and tests whether it is true or not. \n",
    "\n",
    "The macro replaces the expression with a ternary operator expression, which is evaluated at runtime. To examine the resulting expression, use the **macroexpand** function."
   ]
  },
  {
   "cell_type": "code",
   "execution_count": 56,
   "metadata": {},
   "outputs": [
    {
     "data": {
      "text/plain": [
       "@assert (macro with 1 method)"
      ]
     },
     "execution_count": 56,
     "metadata": {},
     "output_type": "execute_result"
    }
   ],
   "source": [
    "macro assert(ex)\n",
    "    :($ex ? nothing : error(\"Assert failed: \", $(string(ex))))\n",
    "end\n"
   ]
  },
  {
   "cell_type": "code",
   "execution_count": 57,
   "metadata": {},
   "outputs": [
    {
     "ename": "LoadError",
     "evalue": "\u001b[91mAssert failed: 1 == 42\u001b[39m",
     "output_type": "error",
     "traceback": [
      "\u001b[91mAssert failed: 1 == 42\u001b[39m",
      "",
      "Stacktrace:",
      " [1] \u001b[1merror\u001b[22m\u001b[22m\u001b[1m(\u001b[22m\u001b[22m::String, ::String, ::Vararg{String,N} where N\u001b[1m)\u001b[22m\u001b[22m at \u001b[1m./error.jl:30\u001b[22m\u001b[22m",
      " [2] \u001b[1minclude_string\u001b[22m\u001b[22m\u001b[1m(\u001b[22m\u001b[22m::String, ::String\u001b[1m)\u001b[22m\u001b[22m at \u001b[1m./loading.jl:522\u001b[22m\u001b[22m",
      " [3] \u001b[1mexecute_request\u001b[22m\u001b[22m\u001b[1m(\u001b[22m\u001b[22m::ZMQ.Socket, ::IJulia.Msg\u001b[1m)\u001b[22m\u001b[22m at \u001b[1m/Users/lhester/.julia/v0.6/IJulia/src/execute_request.jl:193\u001b[22m\u001b[22m",
      " [4] \u001b[1m(::Compat.#inner#6{Array{Any,1},IJulia.#execute_request,Tuple{ZMQ.Socket,IJulia.Msg}})\u001b[22m\u001b[22m\u001b[1m(\u001b[22m\u001b[22m\u001b[1m)\u001b[22m\u001b[22m at \u001b[1m/Users/lhester/.julia/v0.6/Compat/src/Compat.jl:189\u001b[22m\u001b[22m",
      " [5] \u001b[1meventloop\u001b[22m\u001b[22m\u001b[1m(\u001b[22m\u001b[22m::ZMQ.Socket\u001b[1m)\u001b[22m\u001b[22m at \u001b[1m/Users/lhester/.julia/v0.6/IJulia/src/eventloop.jl:8\u001b[22m\u001b[22m",
      " [6] \u001b[1m(::IJulia.##13#16)\u001b[22m\u001b[22m\u001b[1m(\u001b[22m\u001b[22m\u001b[1m)\u001b[22m\u001b[22m at \u001b[1m./task.jl:335\u001b[22m\u001b[22m"
     ]
    }
   ],
   "source": [
    "@assert 1 == 42"
   ]
  },
  {
   "cell_type": "code",
   "execution_count": 58,
   "metadata": {},
   "outputs": [
    {
     "data": {
      "text/plain": [
       ":(if 1 == 42\n",
       "        Main.nothing\n",
       "    else \n",
       "        (Main.error)(\"Assert failed: \", \"1 == 42\")\n",
       "    end)"
      ]
     },
     "execution_count": 58,
     "metadata": {},
     "output_type": "execute_result"
    }
   ],
   "source": [
    "macroexpand(:(@assert 1==42))"
   ]
  },
  {
   "cell_type": "markdown",
   "metadata": {},
   "source": [
    "#### Macro Scope and Context \n",
    "\n",
    "When you are using *macros*, it is important to keep an eye out for scoping issues.\n",
    "\n",
    "Let's take a look at the escape function, **esc**, with  **\\$(esc(ex))**."
   ]
  },
  {
   "cell_type": "code",
   "execution_count": 59,
   "metadata": {},
   "outputs": [
    {
     "data": {
      "text/plain": [
       "@f (macro with 1 method)"
      ]
     },
     "execution_count": 59,
     "metadata": {},
     "output_type": "execute_result"
    }
   ],
   "source": [
    "macro f(x)\n",
    "    quote\n",
    "        s = 4\n",
    "        (s, $(esc(s)))\n",
    "    end\n",
    "end\n"
   ]
  },
  {
   "cell_type": "markdown",
   "metadata": {},
   "source": [
    "This macro declares a variable `s`, and returns a **quoted** expression containing `s` and an escaped version of `s`. \n",
    "\n",
    "notice also the implicit return (i.e., last line executed return value(s)) at \n",
    "`(s,$(esc(s)))` "
   ]
  },
  {
   "cell_type": "code",
   "execution_count": 60,
   "metadata": {},
   "outputs": [
    {
     "data": {
      "text/plain": [
       "0"
      ]
     },
     "execution_count": 60,
     "metadata": {},
     "output_type": "execute_result"
    }
   ],
   "source": [
    "s = 0 # Now, outside the macro, declare a symbol s:"
   ]
  },
  {
   "cell_type": "markdown",
   "metadata": {},
   "source": [
    "Run the macro like in the cell below.\n",
    "\n",
    "The macro returns different values for the symbols `s:`, the first was the value inside the macro's context, `4`  the second was an escaped version of `s`, that was evaluated in **the calling context** (the **@f 2**part), where `s` has the value `0` established in the  `s= 0` line julia REPL command line above. \n",
    "\n",
    "The `2` in **@f 2** is just ignored or meaningless here as we did not use it in the macro **quote** block. \n",
    "\n",
    "In a sense, **esc()** has protected the value of `s` as it passes unharmed through the macro. \n"
   ]
  },
  {
   "cell_type": "code",
   "execution_count": 61,
   "metadata": {},
   "outputs": [
    {
     "data": {
      "text/plain": [
       "(4, 0)"
      ]
     },
     "execution_count": 61,
     "metadata": {},
     "output_type": "execute_result"
    }
   ],
   "source": [
    "@f 2"
   ]
  },
  {
   "cell_type": "markdown",
   "metadata": {},
   "source": [
    "#### Macros Should be Hygienic \n",
    "\n",
    "We are not talking clean here. Unlike functions, macros inject code directly in the namespace in which they are called, possibly this also in a different module than in which they were defined. It is therefore important to ensure that this generated code does not clash with the code in the module in which the macro is called.\n",
    "\n",
    "It is about differentiating between the macro context and the calling context. \n",
    "\n",
    "When a macro behaves appropriately like this, it is called a **hygienic macro**.\n",
    "\n",
    "*Hygienic Macro Rules:*\n",
    "\n",
    "1. Declare variables used in the macro as **local** - prevents conflict with other variables\n",
    "\n",
    "2. Use the escape function **esc** to make sure that an interpolated expression is not expanded, but instead is used literally\n",
    "\n",
    "3. Don't call **eval** inside a macro (because it is likely that the variables you are evaluating don't even exist at that point)\n"
   ]
  },
  {
   "cell_type": "markdown",
   "metadata": {},
   "source": [
    "##### A Good Example of a Hygienic Macro is the timeit Macro\n",
    "\n",
    "The expression, **ex**, is executed through **\\$**, and **t0** and **t1** are respectively the start and end times. "
   ]
  },
  {
   "cell_type": "code",
   "execution_count": 62,
   "metadata": {},
   "outputs": [
    {
     "data": {
      "text/plain": [
       "@timeit (macro with 1 method)"
      ]
     },
     "execution_count": 62,
     "metadata": {},
     "output_type": "execute_result"
    }
   ],
   "source": [
    "macro timeit(ex)\n",
    "    quote\n",
    "        local t0 = time()\n",
    "        local val = $(esc(ex))\n",
    "        local t1 = time()\n",
    "        println(\"elapsed time in seconds: \")\n",
    "        @printf \"%.3f\" t1-t0\n",
    "        val\n",
    "    end\n",
    "end"
   ]
  },
  {
   "cell_type": "markdown",
   "metadata": {},
   "source": [
    "Here, the **\\$esc(ex))** expression allows you to 'escape' the code you want to time, which is in **ex**, so that it isn't evaluated in the macro, but left intact until the entire **quoted** expression (everything between the **quote and end**) is returned by `@timeit` macro is evaluated at **the calling context** and executed there.\n",
    "\n",
    "An expression wrapped in this manner is left alone by the macro expander and simply pasted into the output verbatim. It will be resolved in the macro call environment.\n",
    "\n",
    "In the timeit macro example, it was important to make sure that the expression you want to time is not modified in any way by the macro.\n"
   ]
  },
  {
   "cell_type": "code",
   "execution_count": 63,
   "metadata": {},
   "outputs": [
    {
     "name": "stdout",
     "output_type": "stream",
     "text": [
      "elapsed time in seconds: \n",
      "0.004"
     ]
    },
    {
     "data": {
      "text/plain": [
       "3628800"
      ]
     },
     "execution_count": 63,
     "metadata": {},
     "output_type": "execute_result"
    }
   ],
   "source": [
    "@timeit factorial(10)"
   ]
  },
  {
   "cell_type": "markdown",
   "metadata": {},
   "source": [
    "## Generated Functions\n",
    "\n",
    "Generated functions (also sometimes called staged functions) take advantage of a special macro **@generated**, This special macro allows you to define so-called generated functions. These have the capability to generate specialized code depending on the types of their arguments with more flexibility and/or less code than what can be achieved with multiple dispatch. \n",
    "\n",
    "So, how do they relate to macros and expressions and pretty much everything we have discussed so far.\n",
    "\n",
    "Answer. While, macros work with expressions at parse time and cannot access the types of their inputs, a generated function gets expanded at a time when the types of the arguments are known, but the function is not yet compiled. \n",
    "\n",
    "Here is where it gets a little deep, so hold on.\n",
    "\n",
    "Instead of performing some calculation or action, a generated function declaration returns a **quoted** expression which then forms the body for the method corresponding to the types of the arguments. Generated functions are invoked once for each unique type of its arguments. As this point, arguments themselves take the values of their types.\n",
    "\n",
    "The return value of this execution must be an expression that is used as the body of the function when called with values of these types. So, when a generated function is called, the expression it returns is compiled and then run. \n",
    "\n",
    "This cycle is executed each time the function I called with new types: the function is called with types as values once, and then the returned expression is used for all invocations with argument values of this type. Julia makes this process ultra efficient by caching the resulting expression from compilation with the argument values of specific type. \n",
    "\n",
    "### Performance Improvements with Generated Functions\n",
    "\n",
    "Julia's generated functions provide a flexible way to move work from run time to compile time. As with macros, generated functions improve performance by moving constant parts of the computation earlier in the compilation stage. However, the big difference between generated functions and macros is that computations are fixed only for a certain type of argument for generated functions. Again, going back to the idea of expression being cached for functions using particular argument types. For different types of arguments, the computations are different. \n",
    "\n",
    "#### Defining Generated (Staged) Functions\n",
    "\n",
    "1. The function declaration MUST be annotated with the **@generated** macro. This declaration places information into the Abstract Syntax Tree which lets the compiler know that this is a generated function.\n",
    "\n",
    "2. In the body of the generated function you only have access to the *types* of the arguments – not their values --and any function that was defined before the definition of the generated function.\n",
    "\n",
    "3. Instead of calculating a result and returning the result like in a typical function, generated functions only return a **quoted** expression, which when evaluated, performs the calculation and returns a result as desired with the given arguments.\n",
    "\n",
    "4. Generated functions MUST NOT mutate or observe any non-constant global state, meaning they can only read global constants and cannot have any side effects. Generated function have to be completely pure. PURE in the sense that as of the time of this writing, they cannot define a closure or generator.\n",
    "\n",
    "The following examples should help with understanding."
   ]
  },
  {
   "cell_type": "markdown",
   "metadata": {},
   "source": [
    "#### Example 1: Simple Generated Function \n",
    "\n",
    "The body of the generated function simplegen returns a quoted expression, `:(x * x)` and not the value of  `x * x`.\n",
    "\n",
    "Note: the generated function actually contains side-effects, the call to Core.println. It does not define exactly when, how often, or how many times these side-effects occur.  It is used here just to show a simple example of how a generated function would work. It is not an ideal example, so do not use this in your real code. (wink)\n"
   ]
  },
  {
   "cell_type": "code",
   "execution_count": 64,
   "metadata": {},
   "outputs": [
    {
     "data": {
      "text/plain": [
       "simplegen (generic function with 1 method)"
      ]
     },
     "execution_count": 64,
     "metadata": {},
     "output_type": "execute_result"
    }
   ],
   "source": [
    "@generated function simplegen(x)\n",
    "    Core.println(x)\n",
    "    return :(x * x)\n",
    "end"
   ]
  },
  {
   "cell_type": "markdown",
   "metadata": {},
   "source": [
    "The call to the simplegen generated function is identical to a regular function.  \n",
    "\n",
    "The call shows that the `println` statement is executed and then the returned expression is evaluated using the *Int64* value of 2.  \n",
    "\n",
    "You see that in the body of the generated function, `x` is the type of passed argument, and the value returned by the generated function is the result of evaluating the **quoted** expression we returned from the definition, now with the value of `x`."
   ]
  },
  {
   "cell_type": "code",
   "execution_count": 65,
   "metadata": {},
   "outputs": [
    {
     "name": "stdout",
     "output_type": "stream",
     "text": [
      "Int64\n"
     ]
    },
    {
     "data": {
      "text/plain": [
       "4"
      ]
     },
     "execution_count": 65,
     "metadata": {},
     "output_type": "execute_result"
    }
   ],
   "source": [
    "#Output is from the println() statement in the return of the expression being evaluated\n",
    "x = simplegen(2) "
   ]
  },
  {
   "cell_type": "markdown",
   "metadata": {},
   "source": [
    "`x` equals the value of the returned evaluated expression with the input from  simplegen(2) \n"
   ]
  },
  {
   "cell_type": "code",
   "execution_count": 66,
   "metadata": {},
   "outputs": [
    {
     "data": {
      "text/plain": [
       "4"
      ]
     },
     "execution_count": 66,
     "metadata": {},
     "output_type": "execute_result"
    }
   ],
   "source": [
    "x"
   ]
  },
  {
   "cell_type": "markdown",
   "metadata": {},
   "source": [
    "Here is an example showing a **String** input with the multiplication symbol showing concatenation of the strings."
   ]
  },
  {
   "cell_type": "code",
   "execution_count": 67,
   "metadata": {},
   "outputs": [
    {
     "name": "stdout",
     "output_type": "stream",
     "text": [
      "String\n"
     ]
    },
    {
     "data": {
      "text/plain": [
       "\"AlohaAloha\""
      ]
     },
     "execution_count": 67,
     "metadata": {},
     "output_type": "execute_result"
    }
   ],
   "source": [
    "y = simplegen(\"Aloha\")"
   ]
  },
  {
   "cell_type": "code",
   "execution_count": 68,
   "metadata": {},
   "outputs": [
    {
     "data": {
      "text/plain": [
       "\"AlohaAloha\""
      ]
     },
     "execution_count": 68,
     "metadata": {},
     "output_type": "execute_result"
    }
   ],
   "source": [
    "y"
   ]
  },
  {
   "cell_type": "markdown",
   "metadata": {},
   "source": [
    "#### Example 2: Evaluating the Same Generated Function with Type Previously Used\n",
    "\n",
    "This time there is no printout of the **Int64** . Only the body of the generated function was executed once here, for the specific set of arguments types. The resulting returned expression `:(x * x)` was cached, so that after `simplegen(2)` the generated function was re-used as the method body for type *Int64* parameter during this second attempt of `simplegen(4)`. \n",
    "\n",
    "**Here is the point**. The number of times a generated function is err, well, generated, might be more than once, so it it is important to never generate a function with side effects "
   ]
  },
  {
   "cell_type": "code",
   "execution_count": 69,
   "metadata": {},
   "outputs": [
    {
     "data": {
      "text/plain": [
       "16"
      ]
     },
     "execution_count": 69,
     "metadata": {},
     "output_type": "execute_result"
    }
   ],
   "source": [
    "simplegen(4)"
   ]
  },
  {
   "cell_type": "markdown",
   "metadata": {},
   "source": [
    "#### Example 3: Generated functions and Method Redefinitions\n",
    "\n",
    "`origfunc(x)` has one definition."
   ]
  },
  {
   "cell_type": "code",
   "execution_count": 70,
   "metadata": {},
   "outputs": [
    {
     "data": {
      "text/plain": [
       "origfunc (generic function with 1 method)"
      ]
     },
     "execution_count": 70,
     "metadata": {},
     "output_type": "execute_result"
    }
   ],
   "source": [
    "origfunc(x) = \"original definition\""
   ]
  },
  {
   "cell_type": "markdown",
   "metadata": {},
   "source": [
    "Define other operations that use `origfunc(x)`\n",
    "\n",
    "Check out `@generated` functions"
   ]
  },
  {
   "cell_type": "code",
   "execution_count": 71,
   "metadata": {},
   "outputs": [],
   "source": [
    "copyorigfunc(x) = origfunc(x);"
   ]
  },
  {
   "cell_type": "code",
   "execution_count": 72,
   "metadata": {},
   "outputs": [],
   "source": [
    "@generated gen1(x) = origfunc(x);"
   ]
  },
  {
   "cell_type": "code",
   "execution_count": 73,
   "metadata": {},
   "outputs": [],
   "source": [
    "@generated gen2(x) = :(origfunc(x));"
   ]
  },
  {
   "cell_type": "markdown",
   "metadata": {},
   "source": [
    "Now we add new definitions for `origfunc(x)`"
   ]
  },
  {
   "cell_type": "code",
   "execution_count": 74,
   "metadata": {},
   "outputs": [],
   "source": [
    "origfunc(x::Int) = \"definition for Int\";\n",
    "origfunc(x::Type{Int}) = \"definition for Type{Int}\";"
   ]
  },
  {
   "cell_type": "code",
   "execution_count": 75,
   "metadata": {},
   "outputs": [
    {
     "data": {
      "text/plain": [
       "\"definition for Int\""
      ]
     },
     "execution_count": 75,
     "metadata": {},
     "output_type": "execute_result"
    }
   ],
   "source": [
    "# origfunc(1) - here we see the new definition using an Integer \n",
    "#               argument takes precedence.\n",
    "origfunc(1)"
   ]
  },
  {
   "cell_type": "code",
   "execution_count": 76,
   "metadata": {},
   "outputs": [
    {
     "data": {
      "text/plain": [
       "\"definition for Int\""
      ]
     },
     "execution_count": 76,
     "metadata": {},
     "output_type": "execute_result"
    }
   ],
   "source": [
    "# copyorigfunc(1)  - follows from the assignment of copyorigfunc = origfunc \n",
    "#                    they point to the same place in memory.\n",
    "copyorigfunc(1)"
   ]
  },
  {
   "cell_type": "code",
   "execution_count": 77,
   "metadata": {},
   "outputs": [
    {
     "data": {
      "text/plain": [
       "\"original definition\""
      ]
     },
     "execution_count": 77,
     "metadata": {},
     "output_type": "execute_result"
    }
   ],
   "source": [
    "# gen1(1) - follows the origfunc(x) prior to the new \n",
    "#          definition of origfunc(x) \n",
    "gen1(1)"
   ]
  },
  {
   "cell_type": "code",
   "execution_count": 78,
   "metadata": {},
   "outputs": [
    {
     "data": {
      "text/plain": [
       "\"definition for Int\""
      ]
     },
     "execution_count": 78,
     "metadata": {},
     "output_type": "execute_result"
    }
   ],
   "source": [
    "# gen2(1) - uses a quoted version of origfunc(x) which \n",
    "#           follows the latest definition during call invocation.\n",
    "gen2(1)"
   ]
  },
  {
   "cell_type": "markdown",
   "metadata": {},
   "source": [
    "### How generated functions have there their own view of defined functions \n",
    "\n",
    "here `gen1(x::Real) = origfunc(x)`  in the cell below\n",
    "\n",
    "shows that we can use the *type* of argument for a generated function to dictate the *type* of *expression* rendered as the resulting *expression* of the generated function by choosing the appropriate defined *function* by the *type* of input for the defined function. \n",
    "\n",
    "Type `Real` dictates the expression resulting as we see in the cells below."
   ]
  },
  {
   "cell_type": "code",
   "execution_count": 79,
   "metadata": {},
   "outputs": [],
   "source": [
    "@generated gen1(x::Real) = origfunc(x);"
   ]
  },
  {
   "cell_type": "code",
   "execution_count": 80,
   "metadata": {},
   "outputs": [
    {
     "data": {
      "text/plain": [
       "\"definition for Type{Int}\""
      ]
     },
     "execution_count": 80,
     "metadata": {},
     "output_type": "execute_result"
    }
   ],
   "source": [
    "gen1(1)"
   ]
  },
  {
   "cell_type": "markdown",
   "metadata": {},
   "source": [
    "## Terminology\n",
    "\n",
    "**compile time** - the instance when the code you have entered gets converted to an executable.\n",
    "\n",
    "**constructor** - Constructors in Julia programming are functions that create new objects – specifically of composite types. According to the Julia Docs,(https://docs.julialang.org/en/v1/manual/constructors/index.html#footnote-1) \n",
    "\n",
    "```While the term \"constructor\" generally refers to the entire function which constructs objects of a type, it is common to abuse terminology slightly and refer to specific constructor methods as \"constructors\". In such situations, it is generally clear from the context that the term is used to mean \"constructor method\" rather than \"constructor function\", especially as it is often used in the sense of singling out a particular method of the constructor from all of the others.``` \n",
    "\n",
    "**homoiconicity** - (from the Greek words *homo*- meaning \"the same\" and *icon* meaning \"representation\"). In computer programming, homoiconicity is a property of some programming languages. A language is homoiconic if a program written in it can be manipulated as data using the language, and thus the program's internal representation can be inferred just by reading the program itself.\n",
    "\n",
    "**hygienic** - An appropriately behaving MACRO is called a hygienic macro. Hygiene with macros is all about differentiation between the macro context and the calling context.\n",
    "\n",
    "Hygienic Macro rules:\n",
    "\n",
    "* Declare variables used in the macro as local - prevents conflict with other variables\n",
    "\n",
    "* Use the escape function **esc** to make sure that an interpolated expression is not expanded, but instead is used literally\n",
    "\n",
    "* Don't call **eval** inside a macro (because it is likely that the variables you are evaluating don't even exist at that point)\n",
    "\n",
    "**parse time** - when the code syntax is analyzed \n",
    "\n",
    "**runtime** - the instance where executable code is running. "
   ]
  },
  {
   "cell_type": "code",
   "execution_count": null,
   "metadata": {},
   "outputs": [],
   "source": []
  }
 ],
 "metadata": {
  "kernelspec": {
   "display_name": "Julia 0.6.2",
   "language": "julia",
   "name": "julia-0.6"
  },
  "language_info": {
   "file_extension": ".jl",
   "mimetype": "application/julia",
   "name": "julia",
   "version": "0.6.2"
  }
 },
 "nbformat": 4,
 "nbformat_minor": 2
}
